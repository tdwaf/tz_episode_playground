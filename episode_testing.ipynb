{
 "cells": [
  {
   "cell_type": "code",
   "execution_count": 68,
   "id": "af9a9f11-7c64-431b-9f4e-3b0e76691cf9",
   "metadata": {},
   "outputs": [],
   "source": [
    "# Imports\n",
    "import requests\n",
    "from bs4 import BeautifulSoup\n",
    "import pandas as pd"
   ]
  },
  {
   "cell_type": "code",
   "execution_count": 69,
   "id": "edeb65d4-7cb8-4f7e-81f1-335ec8a909b6",
   "metadata": {},
   "outputs": [],
   "source": [
    "# Data from imdb\n",
    "\n",
    "# Setup\n",
    "url = 'https://www.imdb.com/title/tt0052520/episodes?season=1'\n",
    "response = requests.get(url)\n",
    "season_page = BeautifulSoup(response.content)\n",
    "\n",
    "episode_tiles = season_page.findAll('div', attrs={'class': 'info'})"
   ]
  },
  {
   "cell_type": "code",
   "execution_count": 76,
   "id": "a9acfb75-6350-40d1-b761-9a6589f199a8",
   "metadata": {},
   "outputs": [],
   "source": [
    "\n",
    "def get_episode_data():\n",
    "    episode_data_list = []\n",
    "    for season in range(5):\n",
    "        sn = season + 1\n",
    "    \n",
    "        # Setup\n",
    "        url = 'https://www.imdb.com/title/tt0052520/episodes?season=1'\n",
    "        response = requests.get(url)\n",
    "        season_page = BeautifulSoup(response.content)\n",
    "        episode_tiles = season_page.findAll('div', attrs={'class': 'info'})\n",
    "        \n",
    "         # isolate data wanted\n",
    "        for episode in episode_tiles:\n",
    "        \n",
    "            # episode_number\n",
    "            episode_number = episode.meta['content']\n",
    "        \n",
    "            # episode_name\n",
    "            episode_name = episode.strong.a.text\n",
    "        \n",
    "            # episode_description\n",
    "            episode_description = episode.find('div', class_='item_description').text.strip()\n",
    "        \n",
    "            # episode_airdate\n",
    "            episode_airdate = episode.find('div', attrs={'class': 'airdate'}).text.strip().replace('.', '')\n",
    "        \n",
    "            # episode_rating\n",
    "            episode_rating = episode.find('div', attrs={'class': 'ipl-rating-widget'}).find('div', attrs={'class': 'ipl-rating-star small'}).find('span', attrs={'class': 'ipl-rating-star__rating'}).text\n",
    "        \n",
    "            # episode_review_number\n",
    "            episode_reviews = episode.find('div', attrs={'class': 'ipl-rating-widget'}).find('div', attrs={'class': 'ipl-rating-star small'}).find('span', attrs={'class': 'ipl-rating-star__total-votes'}).text.strip('()').replace(',', '')\n",
    "    \n",
    "            data = {'season_number': sn, 'episode_number': episode_number, 'episode_name': episode_name, 'episode_description': episode_description, 'episode_airdate': episode_airdate, 'episode_rating': episode_rating, 'episode_rating_votes': episode_reviews}\n",
    "            episode_data_list.append(data)\n",
    "    return episode_data_list"
   ]
  },
  {
   "cell_type": "code",
   "execution_count": 77,
   "id": "03e78cc9-5e8d-434e-8ab2-fa773c93d42d",
   "metadata": {},
   "outputs": [],
   "source": [
    "df = pd.DataFrame(get_episode_data())\n",
    "df.to_csv('twilight_zone_data.csv', index=False)"
   ]
  }
 ],
 "metadata": {
  "kernelspec": {
   "display_name": "Python 3 (ipykernel)",
   "language": "python",
   "name": "python3"
  },
  "language_info": {
   "codemirror_mode": {
    "name": "ipython",
    "version": 3
   },
   "file_extension": ".py",
   "mimetype": "text/x-python",
   "name": "python",
   "nbconvert_exporter": "python",
   "pygments_lexer": "ipython3",
   "version": "3.9.13"
  }
 },
 "nbformat": 4,
 "nbformat_minor": 5
}
